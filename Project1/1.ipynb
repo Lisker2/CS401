{
 "cells": [
  {
   "cell_type": "code",
   "execution_count": 9,
   "metadata": {},
   "outputs": [],
   "source": [
    "from pyspark import SparkConf, SparkContext\n",
    "from pyspark.sql import SparkSession\n",
    "from pyspark.sql import functions as F\n",
    "spark = SparkSession.builder \\\n",
    "    .appName(\"count\") \\\n",
    "    .config(\"spark.executor.instances\", \"2\") \\\n",
    "    .config(\"spark.executor.cores\", \"2\") \\\n",
    "    .config(\"spark.executor.memory\", \"1024M\") \\\n",
    "    .getOrCreate()\n",
    "sc = spark.sparkContext"
   ]
  },
  {
   "attachments": {},
   "cell_type": "markdown",
   "metadata": {},
   "source": [
    "### Question 1\n",
    "\n"
   ]
  },
  {
   "cell_type": "code",
   "execution_count": 10,
   "metadata": {},
   "outputs": [
    {
     "name": "stderr",
     "output_type": "stream",
     "text": [
      "[Stage 18:=================================================>      (21 + 3) / 24]\r"
     ]
    },
    {
     "name": "stdout",
     "output_type": "stream",
     "text": [
      "root\n",
      " |-- album_name: string (nullable = true)\n",
      " |-- album_uri: string (nullable = true)\n",
      " |-- artist_name: string (nullable = true)\n",
      " |-- artist_uri: string (nullable = true)\n",
      " |-- duration_ms: long (nullable = true)\n",
      " |-- pid: long (nullable = true)\n",
      " |-- pos: long (nullable = true)\n",
      " |-- track_name: string (nullable = true)\n",
      " |-- track_uri: string (nullable = true)\n",
      "\n",
      "+--------------------------------------------+------------------------------------+-----------------+-------------------------------------+-----------+---+---+------------------------------------------+------------------------------------+\n",
      "|album_name                                  |album_uri                           |artist_name      |artist_uri                           |duration_ms|pid|pos|track_name                                |track_uri                           |\n",
      "+--------------------------------------------+------------------------------------+-----------------+-------------------------------------+-----------+---+---+------------------------------------------+------------------------------------+\n",
      "|The Cookbook                                |spotify:album:6vV5UrXcfyQD1wu4Qo2I9K|Missy Elliott    |spotify:artist:2wIVse2owClT7go1WT98tk|226863     |0  |0  |Lose Control (feat. Ciara & Fat Man Scoop)|spotify:track:0UaMYEvWZi0ZqiDOoHU3YI|\n",
      "|In The Zone                                 |spotify:album:0z7pVBGOD7HCIB7S8eLkLI|Britney Spears   |spotify:artist:26dSoYclwsYLMAKD3tpOr4|198800     |0  |1  |Toxic                                     |spotify:track:6I9VzXrHxO9rA9A5euc8Ak|\n",
      "|Dangerously In Love (Alben für die Ewigkeit)|spotify:album:25hVFAxTlDvXbx2X2QkUkE|Beyoncé          |spotify:artist:6vWDO969PvNqNYHIOW5v0m|235933     |0  |2  |Crazy In Love                             |spotify:track:0WqIKmW4BTrj3eJFmnCKMv|\n",
      "|Justified                                   |spotify:album:6QPkyl04rXwTGlGlcYaRoW|Justin Timberlake|spotify:artist:31TPClRtHm23RisEBtV3X7|267266     |0  |3  |Rock Your Body                            |spotify:track:1AWQoqb9bSvzTjaLralEkT|\n",
      "|Hot Shot                                    |spotify:album:6NmFmPX56pcLBOFMhIiKvF|Shaggy           |spotify:artist:5EvFsr3kj42KNv97ZEnqij|227600     |0  |4  |It Wasn't Me                              |spotify:track:1lzr43nnXAijIGYnCT8M8H|\n",
      "+--------------------------------------------+------------------------------------+-----------------+-------------------------------------+-----------+---+---+------------------------------------------+------------------------------------+\n",
      "only showing top 5 rows\n",
      "\n"
     ]
    },
    {
     "name": "stderr",
     "output_type": "stream",
     "text": [
      "                                                                                \r"
     ]
    }
   ],
   "source": [
    "df = spark.read.json(\"hdfs://localhost:9000/datasets/spotify/tracks.json\")\n",
    "df.printSchema()\n",
    "df.show(5,False)"
   ]
  },
  {
   "attachments": {},
   "cell_type": "markdown",
   "metadata": {},
   "source": [
    "#### 1.1"
   ]
  },
  {
   "cell_type": "code",
   "execution_count": 11,
   "metadata": {},
   "outputs": [
    {
     "name": "stderr",
     "output_type": "stream",
     "text": [
      "[Stage 20:=================================================>      (21 + 3) / 24]\r"
     ]
    },
    {
     "name": "stdout",
     "output_type": "stream",
     "text": [
      "+-------+------------------+\n",
      "|summary|       duration_ms|\n",
      "+-------+------------------+\n",
      "|    min|                 0|\n",
      "|    max|          10435467|\n",
      "|   mean|234408.54976216817|\n",
      "+-------+------------------+\n",
      "\n"
     ]
    },
    {
     "name": "stderr",
     "output_type": "stream",
     "text": [
      "                                                                                \r"
     ]
    }
   ],
   "source": [
    "df1_1 = df.select(\"duration_ms\").summary(\"min\",\"max\",\"mean\")\n",
    "df1_1.show()"
   ]
  },
  {
   "attachments": {},
   "cell_type": "markdown",
   "metadata": {},
   "source": [
    "#### 1.2&1.3"
   ]
  },
  {
   "cell_type": "code",
   "execution_count": 12,
   "metadata": {},
   "outputs": [
    {
     "name": "stderr",
     "output_type": "stream",
     "text": [
      "[Stage 23:=================================================>      (21 + 3) / 24]\r"
     ]
    },
    {
     "name": "stdout",
     "output_type": "stream",
     "text": [
      "+-------+-----------+\n",
      "|summary|duration_ms|\n",
      "+-------+-----------+\n",
      "|    25%|     198333|\n",
      "|    75%|     258834|\n",
      "+-------+-----------+\n",
      "\n",
      "Q1 = 198333\n",
      "Q3 = 258834\n",
      "IQR = 60501\n",
      "+--------------------------------------------+------------------------------------+-----------------+-------------------------------------+-----------+---+---+------------------------------------------+------------------------------------+\n",
      "|album_name                                  |album_uri                           |artist_name      |artist_uri                           |duration_ms|pid|pos|track_name                                |track_uri                           |\n",
      "+--------------------------------------------+------------------------------------+-----------------+-------------------------------------+-----------+---+---+------------------------------------------+------------------------------------+\n",
      "|The Cookbook                                |spotify:album:6vV5UrXcfyQD1wu4Qo2I9K|Missy Elliott    |spotify:artist:2wIVse2owClT7go1WT98tk|226863     |0  |0  |Lose Control (feat. Ciara & Fat Man Scoop)|spotify:track:0UaMYEvWZi0ZqiDOoHU3YI|\n",
      "|In The Zone                                 |spotify:album:0z7pVBGOD7HCIB7S8eLkLI|Britney Spears   |spotify:artist:26dSoYclwsYLMAKD3tpOr4|198800     |0  |1  |Toxic                                     |spotify:track:6I9VzXrHxO9rA9A5euc8Ak|\n",
      "|Dangerously In Love (Alben für die Ewigkeit)|spotify:album:25hVFAxTlDvXbx2X2QkUkE|Beyoncé          |spotify:artist:6vWDO969PvNqNYHIOW5v0m|235933     |0  |2  |Crazy In Love                             |spotify:track:0WqIKmW4BTrj3eJFmnCKMv|\n",
      "|Justified                                   |spotify:album:6QPkyl04rXwTGlGlcYaRoW|Justin Timberlake|spotify:artist:31TPClRtHm23RisEBtV3X7|267266     |0  |3  |Rock Your Body                            |spotify:track:1AWQoqb9bSvzTjaLralEkT|\n",
      "|Hot Shot                                    |spotify:album:6NmFmPX56pcLBOFMhIiKvF|Shaggy           |spotify:artist:5EvFsr3kj42KNv97ZEnqij|227600     |0  |4  |It Wasn't Me                              |spotify:track:1lzr43nnXAijIGYnCT8M8H|\n",
      "+--------------------------------------------+------------------------------------+-----------------+-------------------------------------+-----------+---+---+------------------------------------------+------------------------------------+\n",
      "only showing top 5 rows\n",
      "\n"
     ]
    },
    {
     "name": "stderr",
     "output_type": "stream",
     "text": [
      "                                                                                \r"
     ]
    }
   ],
   "source": [
    "import pandas as pd\n",
    "df1_2 = df.select(\"duration_ms\").summary(\"25%\", \"75%\")\n",
    "df1_2.show()\n",
    "\n",
    "pd1_2 = df1_2.toPandas()\n",
    "Q1 = int(pd1_2[\"duration_ms\"][0])\n",
    "Q3 = int(pd1_2[\"duration_ms\"][1])\n",
    "print(\"Q1 = {0}\".format(Q1))\n",
    "print(\"Q3 = {0}\".format(Q3))\n",
    "IQR = Q3 - Q1\n",
    "print(\"IQR = {0}\".format(IQR))\n",
    "\n",
    "duration_ms_column = df[\"duration_ms\"]\n",
    "df_filter = df.filter(duration_ms_column < Q3 + 1.5 * IQR).filter(Q1 - 1.5 * IQR < duration_ms_column)\n",
    "df_filter.show(5,False)\n"
   ]
  },
  {
   "attachments": {},
   "cell_type": "markdown",
   "metadata": {},
   "source": [
    "#### 1.4"
   ]
  },
  {
   "cell_type": "code",
   "execution_count": 16,
   "metadata": {},
   "outputs": [
    {
     "name": "stderr",
     "output_type": "stream",
     "text": [
      "                                                                                \r"
     ]
    },
    {
     "name": "stdout",
     "output_type": "stream",
     "text": [
      "+-------+-----------+\n",
      "|summary|duration_ms|\n",
      "+-------+-----------+\n",
      "|  count|   10760544|\n",
      "+-------+-----------+\n",
      "\n"
     ]
    },
    {
     "name": "stderr",
     "output_type": "stream",
     "text": [
      "[Stage 36:=================================================>      (21 + 3) / 24]\r"
     ]
    },
    {
     "name": "stdout",
     "output_type": "stream",
     "text": [
      "+-------+------------------+\n",
      "|summary|       duration_ms|\n",
      "+-------+------------------+\n",
      "|  count|          10200555|\n",
      "|    min|            107582|\n",
      "|    max|            349583|\n",
      "|   mean|226899.35353939075|\n",
      "+-------+------------------+\n",
      "\n"
     ]
    },
    {
     "name": "stderr",
     "output_type": "stream",
     "text": [
      "                                                                                \r"
     ]
    }
   ],
   "source": [
    "df_count = df.select(\"duration_ms\").summary(\"count\")\n",
    "df_count.show()\n",
    "df_filter_count = df_filter.select(\"duration_ms\").summary(\"count\",\"min\",\"max\",\"mean\")\n",
    "df_filter_count.show()\n"
   ]
  },
  {
   "cell_type": "code",
   "execution_count": 17,
   "metadata": {},
   "outputs": [
    {
     "name": "stdout",
     "output_type": "stream",
     "text": [
      "the number of outliers = 559989\n"
     ]
    }
   ],
   "source": [
    "print(\"the number of outliers = {0}\".format(10760544-10200555))"
   ]
  }
 ],
 "metadata": {
  "kernelspec": {
   "display_name": "Python 3 (ipykernel)",
   "language": "python",
   "name": "python3"
  },
  "orig_nbformat": 4
 },
 "nbformat": 4,
 "nbformat_minor": 2
}
